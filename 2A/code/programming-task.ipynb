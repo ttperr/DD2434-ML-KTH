{
 "cells": [
  {
   "cell_type": "markdown",
   "metadata": {},
   "source": [
    "# Programming task — MDS"
   ]
  },
  {
   "cell_type": "code",
   "execution_count": 27,
   "metadata": {},
   "outputs": [],
   "source": [
    "import pandas as pd\n",
    "import warnings\n",
    "warnings.filterwarnings(\"ignore\")"
   ]
  },
  {
   "cell_type": "markdown",
   "metadata": {},
   "source": [
    "## Importing data"
   ]
  },
  {
   "cell_type": "code",
   "execution_count": 23,
   "metadata": {},
   "outputs": [],
   "source": [
    "ep6 = pd.read_excel(\n",
    "    'VoteWatch-EP-voting-data_2004-2022/EP6_RCVs_2022_06_13.xlsx', header=1)\n",
    "ep7 = pd.read_excel(\n",
    "    'VoteWatch-EP-voting-data_2004-2022/EP7_RCVs_2014_06_19.xlsx', header=0)\n",
    "ep8 = pd.read_excel(\n",
    "    'VoteWatch-EP-voting-data_2004-2022/EP8_RCVs_2019_06_25.xlsx', header=0)\n",
    "ep9 = pd.read_excel(\n",
    "    'VoteWatch-EP-voting-data_2004-2022/EP9_RCVs_2022_06_22.xlsx', header=0)\n"
   ]
  },
  {
   "cell_type": "code",
   "execution_count": 28,
   "metadata": {},
   "outputs": [],
   "source": [
    "ep6_voted = pd.read_excel(\n",
    "    'VoteWatch-EP-voting-data_2004-2022/EP6_Voted docs.xlsx', header=0)\n",
    "ep7_voted = pd.read_excel(\n",
    "    'VoteWatch-EP-voting-data_2004-2022/EP7_Voted docs.xlsx', header=0)\n",
    "ep8_voted = pd.read_excel(\n",
    "    'VoteWatch-EP-voting-data_2004-2022/EP8_Voted docs.xlsx', header=0)\n",
    "ep9_voted = pd.read_excel(\n",
    "    'VoteWatch-EP-voting-data_2004-2022/EP9_Voted docs.xlsx', header=0)"
   ]
  },
  {
   "cell_type": "code",
   "execution_count": 29,
   "metadata": {},
   "outputs": [],
   "source": [
    "votes = pd.read_excel(\n",
    "    'EU-Council-votes-July-2009-to-Feb-2022.xlsx', header=0)"
   ]
  },
  {
   "cell_type": "code",
   "execution_count": 30,
   "metadata": {},
   "outputs": [],
   "source": [
    "rcv_legend = ['not a MEP', 'for', 'against',\n",
    "              'abstention', 'absent', 'didn\\'t vote', 'motivated']"
   ]
  },
  {
   "cell_type": "code",
   "execution_count": 32,
   "metadata": {},
   "outputs": [],
   "source": [
    "ep6.drop(index=0, inplace=True, errors='ignore')"
   ]
  },
  {
   "cell_type": "markdown",
   "metadata": {},
   "source": [
    "## Pre-processing"
   ]
  },
  {
   "cell_type": "code",
   "execution_count": 33,
   "metadata": {},
   "outputs": [
    {
     "data": {
      "text/plain": [
       "array(['Cyprus', 'Poland', 'Italy', 'United Kingdom', 'Germany', 'Sweden',\n",
       "       'Latvia', 'Lithuania', 'France', 'Greece', 'Portugal', 'Malta',\n",
       "       'Denmark', 'Spain', 'Ireland', 'Slovakia', 'Hungary',\n",
       "       'Netherlands', 'Belgium', 'Austria', 'Czech Republic', 'Slovenia',\n",
       "       'Luxembourg', 'Finland', 'Estonia', 'Bulgaria', 'Romania'],\n",
       "      dtype=object)"
      ]
     },
     "execution_count": 33,
     "metadata": {},
     "output_type": "execute_result"
    }
   ],
   "source": [
    "countries = ep6['Country'].unique()\n",
    "countries"
   ]
  },
  {
   "cell_type": "code",
   "execution_count": 34,
   "metadata": {},
   "outputs": [
    {
     "data": {
      "text/plain": [
       "array(['Confederal Group of the European United Left - Nordic Green Left',\n",
       "       'Independence/Democracy Group',\n",
       "       \"Group of the European People's Party (Christian Democrats) and European Democrats\",\n",
       "       'Non-attached Members',\n",
       "       'Group of the Alliance of Liberals and Democrats for Europe',\n",
       "       'Socialist Group in the European Parliament',\n",
       "       'Union for Europe of the Nations Group',\n",
       "       'Group of the Greens/European Free Alliance'], dtype=object)"
      ]
     },
     "execution_count": 34,
     "metadata": {},
     "output_type": "execute_result"
    }
   ],
   "source": [
    "epgs = ep6['EPG'].unique()\n",
    "epgs"
   ]
  }
 ],
 "metadata": {
  "kernelspec": {
   "display_name": "Python 3",
   "language": "python",
   "name": "python3"
  },
  "language_info": {
   "codemirror_mode": {
    "name": "ipython",
    "version": 3
   },
   "file_extension": ".py",
   "mimetype": "text/x-python",
   "name": "python",
   "nbconvert_exporter": "python",
   "pygments_lexer": "ipython3",
   "version": "3.11.7"
  }
 },
 "nbformat": 4,
 "nbformat_minor": 2
}
